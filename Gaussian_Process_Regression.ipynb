{
  "nbformat": 4,
  "nbformat_minor": 0,
  "metadata": {
    "colab": {
      "provenance": [],
      "toc_visible": true,
      "include_colab_link": true
    },
    "kernelspec": {
      "name": "python3",
      "display_name": "Python 3"
    }
  },
  "cells": [
    {
      "cell_type": "markdown",
      "metadata": {
        "id": "view-in-github",
        "colab_type": "text"
      },
      "source": [
        "<a href=\"https://colab.research.google.com/github/jtao/AdvancedML/blob/main/Gaussian_Process_Regression.ipynb\" target=\"_parent\"><img src=\"https://colab.research.google.com/assets/colab-badge.svg\" alt=\"Open In Colab\"/></a>"
      ]
    },
    {
      "cell_type": "markdown",
      "metadata": {
        "id": "0deBLdb-kbnk"
      },
      "source": [
        "# Introduction to Gaussian Process Regression\n"
      ]
    },
    {
      "cell_type": "code",
      "metadata": {
        "id": "GgVdylk7Hqvw"
      },
      "source": [
        "import warnings\n",
        "import numpy as np\n",
        "import pandas as pd\n",
        "import matplotlib.pyplot as plt"
      ],
      "execution_count": 1,
      "outputs": []
    },
    {
      "cell_type": "markdown",
      "metadata": {
        "id": "jHhLlp6H5C5L"
      },
      "source": [
        "## Kernels\n",
        "\n",
        "Suppose we are given data with $x_i$ being the inputs and $y_i$ being the targets, $$(x_1,y_1), \\ldots, (x_n,y_n)\\in \\mathcal{X}\\times \\mathcal{Y}$$\n",
        "In learning, we want to get a model that can be able to generalize to unseen data points, meaning that we want to choose $y$ such that $(x,y)$ is in some sense similar to the training data. A similarity measure is required,\n",
        "$$k:\\mathcal{X}\\times\\mathcal{X}\\rightarrow \\mathbb{R}, (x, x') \\mapsto k(x, x')$$\n",
        "satisfying, for all $x, x'\\in \\mathcal{X}$,\n",
        "$$k(x, x') = <\\Phi(x), \\Phi(x')>$$\n",
        "where $\\Phi$ maps into some feature space $\\mathcal{H}$. The similarity measure $k(\\cdot)$ is called *kernel* and $\\Phi$ is called its *feature map*."
      ]
    },
    {
      "cell_type": "markdown",
      "metadata": {
        "id": "KZ9piaEGoxhw"
      },
      "source": [
        "Some common choices of kernels:\n",
        "\n",
        "*   Radial-basis function (RBF) kernel: $$k(x_i, x_j) = \\exp\\left(-\\frac{d(x_i, x_j)^2}{2l^2}\\right)$$\n",
        "*   Matern kernel: $$k(x_i, x_j) = \\frac{1}{\\Gamma(\\nu)2^{\\nu - 1}}\\left(\\frac{\\sqrt{2\\nu}}{l}d(x_i, x_j)\\right)^{\\nu}K_{\\nu}\\left(\\frac{\\sqrt{2\\nu}}{l}d(x_i, x_j)\\right)$$\n",
        "*   Absolute exponential kernel: (Matern kernel with $\\nu = 1/2$) $$k(x_i, x_j) = \\exp{\\left(-\\frac{d(x_i,x_j)}{l}\\right)}$$\n",
        "*   Rational quadratic kernel: $$k(x_i, x_j) = \\left(1 + \\frac{d(x_i, x_j)^2}{2\\alpha l^2}\\right)^{-\\alpha}$$"
      ]
    },
    {
      "cell_type": "markdown",
      "metadata": {
        "id": "afeyOIBnkmAX"
      },
      "source": [
        "## Gaussian Process Regression\n",
        "\n",
        "**Gausian processes** are a supervised learning method designed to solve regression and probabilistic classification problems.\n",
        "\n",
        "The advantages of Gaussian processes are:\n",
        "* The prediction interpolates the observations (at least for regular kernels).\n",
        "* The prediction is probabilistic (Gaussian) so that one can compute empirical confidence intervals and decide based on those if one should refit (online fitting, adaptive fitting) the prediction in some region of interest.\n",
        "* Versatile: different kernels can be specified. Common kernels are provided, but it is also possible to specify custom kernels.\n",
        "\n",
        "The disadvantages of Gaussian processes include:\n",
        "\n",
        "* They are not sparse, i.e., they use the whole samples/features information to perform the prediction.\n",
        "* They lose efficiency in high dimensional spaces – namely when the number of features exceeds a few dozens."
      ]
    },
    {
      "cell_type": "markdown",
      "metadata": {
        "id": "sKj4a8HjmEDh"
      },
      "source": [
        "Implementation of Gaussian processes for regression purposes gives the Gaussian process regression (GPR). The prior of the GP needs to be specified. The prior mean is assumed to be constant. The prior covariance is specified through a kernel object."
      ]
    },
    {
      "cell_type": "markdown",
      "metadata": {
        "id": "ril80nA2uAA4"
      },
      "source": [
        "The Bayesian approach infers a probability distribution over all possible values. Assume the linear function as following,\n",
        "$$\\mathbf{y} = \\mathbf{w}\\mathbf{x} + \\boldsymbol{\\epsilon}$$\n",
        "\n",
        "The Bayesian approach specifies a prior distribution for $p(\\mathbf{w})$ on the parameter $\\mathbf{w}$ and relocating probabilities based on the observed data using Bayes' Rule:\n",
        "$$p(\\mathbf{w}|\\mathbf{y}, \\mathbf{x}) = \\frac{p(\\mathbf{y}|\\mathbf{x},\\mathbf{w})p(\\mathbf{w})}{p(\\mathbf{y}|\\mathbf{x})}$$\n",
        "\n",
        "To get the predictions at unseen points of interest $mathbf{x}^*$, the predictive distribution can be calculated by weighting all possible predictions by the posterior distribution\n",
        "$$p(f^*|\\mathbf{x}^*, \\mathbf{y},\\mathbf{x}) = \\int_{\\mathbf{w}}p(f^*|x^*, w)p(w|y, x)$$\n",
        "\n",
        "In GPR, we first assume a Gaussian process prior through the mean and covariance function, like an infinite-dimensional multivariate Gaussian distribution.\n",
        "$$f(x)\\sim GP(m(x), k(x, x'))$$\n",
        "$$y\\sim GP(m(x), k(x, x') + \\delta_{ij}\\sigma^2), \\text{ where }y = f(x) + \\epsilon, \\epsilon \\sim N(0, \\sigma^2)$$\n",
        "From the Gaussian process prior, the collection of training and test data points are joint multivariate Gaussian distributed, so the joint distribution can be written as\n",
        "$$\\left[\\begin{array}{c}\n",
        "y\\\\\n",
        "f^*\n",
        "\\end{array}\\right]\\sim \\mathcal{N}\\left(\\boldsymbol{\\mu}^*, \\boldsymbol{\\Sigma}^*\\right)$$\n",
        "where\n",
        "$$\\boldsymbol{\\mu}^* = [\\boldsymbol{\\mu}, \\mu^*], \\boldsymbol{\\Sigma^*} = \\left[\\begin{array}{cc}\n",
        "K(X, X)+\\sigma^2 I & K(X, x^*)\\\\\n",
        "K(x^*, X) & K(x^*, x^*)\\end{array}\\right]$$"
      ]
    },
    {
      "cell_type": "markdown",
      "metadata": {
        "id": "VTsGY0YR0qVb"
      },
      "source": [
        "### Example\n",
        "\n",
        "Random generate data from a uniform distribution."
      ]
    },
    {
      "cell_type": "code",
      "metadata": {
        "id": "oUAhIzHhkEKa"
      },
      "source": [
        "import pandas as pd\n",
        "import numpy as np\n",
        "from matplotlib import pyplot as plt\n",
        "\n",
        "from sklearn.model_selection import train_test_split\n",
        "from sklearn.gaussian_process import GaussianProcessRegressor\n",
        "from sklearn.gaussian_process.kernels import RBF, Matern, ConstantKernel as C"
      ],
      "execution_count": null,
      "outputs": []
    },
    {
      "cell_type": "code",
      "metadata": {
        "colab": {
          "base_uri": "https://localhost:8080/",
          "height": 389
        },
        "id": "YmcME4T3k5uk",
        "outputId": "4ab4909c-3fd3-4f03-9970-8a2de8c218cf"
      },
      "source": [
        "rng = np.random.RandomState(1)\n",
        "X = np.linspace(0, 10, 10)\n",
        "y = X * np.sin(X)\n",
        "dy = 0.1 + 0.5 * np.random.random(y.shape)\n",
        "noise = np.random.normal(0, dy)\n",
        "y += noise\n",
        "# GaussFeats = GaussianFeatures(10).fit_transform(x.reshape(-1, 1))\n",
        "\n",
        "plt.figure(figsize = (10, 6))\n",
        "# plt.subplot(1,2,1)\n",
        "plt.scatter(X, y)\n",
        "plt.xlabel('x')\n",
        "plt.ylabel('y')\n",
        "\n",
        "# plt.subplot(1,2,2)\n",
        "# for i in range(10):\n",
        "#     plt.plot(x, GaussFeats[:, i], '--', color = 'C'+ str(i),  linewidth = 0.5)\n",
        "\n",
        "# plt.xlabel('x')\n",
        "# plt.ylabel('Gaussian Features')\n",
        "\n",
        "plt.show()"
      ],
      "execution_count": null,
      "outputs": [
        {
          "output_type": "display_data",
          "data": {
            "image/png": "[encoded data removed]",
            "text/plain": [
              "<Figure size 720x432 with 1 Axes>"
            ]
          },
          "metadata": {
            "tags": [],
            "needs_background": "light"
          }
        }
      ]
    },
    {
      "cell_type": "code",
      "metadata": {
        "colab": {
          "base_uri": "https://localhost:8080/",
          "height": 392
        },
        "id": "TGTsikOAoUK9",
        "outputId": "4a692ad6-367e-446f-966f-91cd0b778c21"
      },
      "source": [
        "x = np.linspace(0, 12, 100)\n",
        "\n",
        "# Instantiate a Gaussian Process model\n",
        "kernel = Matern(nu = 2.5)\n",
        "gp = GaussianProcessRegressor(kernel = kernel, n_restarts_optimizer = 9)\n",
        "\n",
        "# Fit to data using Maximum Likelihood Estimation of the parameters\n",
        "gp.fit(X.reshape(-1, 1), y)\n",
        "\n",
        "# Make the prediction on the testing dataset (ask for MSE as well)\n",
        "y_pred, sigma = gp.predict(x.reshape(-1, 1), return_std=True)\n",
        "\n",
        "# Plot the function, the prediction and the 95% confidence interval based on\n",
        "# the MSE\n",
        "plt.figure(figsize=(10,6))\n",
        "plt.plot(x, x * np.sin(x), 'r:', label=r'$f(x) = x\\,\\sin(x)$')\n",
        "plt.scatter(x, y_pred, color = 'black', label='Prediction')\n",
        "plt.errorbar(X, y, dy, label = 'Observation', color = 'red')\n",
        "plt.fill(np.concatenate([x.reshape(-1, 1), x.reshape(-1, 1)[::-1]]),\n",
        "         np.concatenate([y_pred - 1.9600 * sigma,\n",
        "                        (y_pred + 1.9600 * sigma)[::-1]]),\n",
        "         alpha=.5, fc='b', ec='None', label='95% confidence interval')\n",
        "plt.xlabel('$x$')\n",
        "plt.ylabel('$f(x)$')\n",
        "plt.ylim(-15, 10)\n",
        "plt.legend(loc='upper left')\n",
        "\n",
        "plt.show()"
      ],
      "execution_count": null,
      "outputs": [
        {
          "output_type": "display_data",
          "data": {
            "image/png": "[encoded data removed]",
            "text/plain": [
              "<Figure size 720x432 with 1 Axes>"
            ]
          },
          "metadata": {
            "tags": [],
            "needs_background": "light"
          }
        }
      ]
    },
    {
      "cell_type": "markdown",
      "metadata": {
        "id": "_J7fGsPVkG75"
      },
      "source": [
        "### A real data example\n",
        "\n",
        "The data relates to an inverse dynamics problem for a seven degrees-of-freedom SARCOS anthropomorphic robot arm. The task is to map from a 21-dimensional input space (7 joint positions, 7 joint velocities, 7 joint accelerations) to the corresponding 7 joint torques. Following previous work we present results for just one of the seven mappings, from the 21 input variables to the first of the seven torques. The training data is of size $44484 \\times 28$ and the test data is of size $4449 \\times 28$.\n",
        "The first 21 columns are the input variables, and the 22nd column is used as the target variable."
      ]
    },
    {
      "cell_type": "code",
      "metadata": {
        "id": "aWhDvkFwA1tP"
      },
      "source": [
        "training_data = pd.read_csv('https://raw.githubusercontent.com/XiaomengYan/MachineLearning_dataset/main/sarcos_inv.csv')\n",
        "test_data = pd.read_csv('https://raw.githubusercontent.com/XiaomengYan/MachineLearning_dataset/main/sarcos_inv_test.csv')\n",
        "\n",
        "X_train = training_data.iloc[:100, 1:22]\n",
        "y_train = training_data.iloc[:100, 22]\n",
        "X_test = test_data.iloc[:, 1:22]\n",
        "y_test = test_data.iloc[:, 22]"
      ],
      "execution_count": null,
      "outputs": []
    },
    {
      "cell_type": "code",
      "metadata": {
        "colab": {
          "base_uri": "https://localhost:8080/"
        },
        "id": "hgGk8VeHRg_c",
        "outputId": "dde9bdad-6920-4e87-9488-e79050411472"
      },
      "source": [
        "# Instantiate a Gaussian Process model\n",
        "kernel = Matern(nu = 2.5)\n",
        "gp = GaussianProcessRegressor(kernel = kernel, n_restarts_optimizer = 9)\n",
        "\n",
        "# Fit to data using Maximum Likelihood Estimation of the parameters\n",
        "gp.fit(X_train, y_train)\n",
        "\n",
        "# Make the prediction on the testing dataset (ask for MSE as well)\n",
        "y_pred, sigma = gp.predict(X_test, return_std=True)\n",
        "\n",
        "MSE_test = np.mean(np.power(y_pred - y_test, 2))\n",
        "print(\"MSE for the test set by GPR: \", MSE_test)\n",
        "\n",
        "# Linear & Ridge\n",
        "from sklearn.kernel_ridge import KernelRidge\n",
        "from sklearn.linear_model import Ridge, LinearRegression\n",
        "\n",
        "regr = LinearRegression()\n",
        "regr.fit(X_train, y_train)\n",
        "y_pred_lr = regr.predict(X_test)\n",
        "\n",
        "MSE_test = np.mean(np.power(y_pred_lr - y_test, 2))\n",
        "print(\"MSE for the test set by linear model: \", MSE_test)\n",
        "\n",
        "ridge_regr = Ridge(alpha = 2.0)\n",
        "ridge_regr.fit(X_train,y_train)\n",
        "y_pred_rg = ridge_regr.predict(X_test)\n",
        "\n",
        "MSE_test = np.mean(np.power(y_pred_rg - y_test, 2))\n",
        "print(\"MSE for the test set by Ridge model: \", MSE_test)"
      ],
      "execution_count": null,
      "outputs": [
        {
          "output_type": "stream",
          "text": [
            "MSE for the test set by GPR:  362.69497537392914\n",
            "MSE for the test set by linear model:  711519.7547611272\n",
            "MSE for the test set by Ridge model:  246.41148282513618\n"
          ],
          "name": "stdout"
        }
      ]
    },
    {
      "cell_type": "markdown",
      "metadata": {
        "id": "RDRanJLxx66e"
      },
      "source": [
        "## Reference\n",
        "* [Notes for kernel ridge regression by Max Welling](https://www.ics.uci.edu/~welling/classnotes/papers_class/Kernel-Ridge.pdf)"
      ]
    },
    {
      "cell_type": "markdown",
      "metadata": {
        "id": "XT94AXkl43aO"
      },
      "source": [
        "## Hands-on exercises\n",
        "### Classification\n",
        "\n",
        "Please try to implement the SVM for classification of MNIST hand written digits dataset. Remember that different hyperparameters can have affect the results.\n",
        "\n",
        "1. Prepare data: Load the MNIST dataset using `load_digits` from `sklearn.datasets`\n",
        "2. Prepare the tool: load `svm` from `sklearn`\n",
        "3. Split the data into training set and test set: use 70% for training and the remaining for testing, get help from `train_test_split` from `sklearn.model_selection`\n",
        "4. Select the evaluation metric to evaluate the classification result\n",
        "5. Try SVM with different settings and save the accuracy score in a dictionary with key being `kernel name_C`\n",
        " * $C = [0.001, 0.1, 0.5, 1, 10, 100]$ (Regularization parameter. The strength of the regularization is inversely proportional to C. Must be strictly positive. The penalty is a squared l2 penalty.)\n",
        " * kernel = \\{‘linear’, ‘poly’, ‘rbf’, ‘sigmoid’\\} (Specifies the kernel type to be used in the algorithm.)\n",
        " 6. Visualize the first 4 results in the test set using polynomial kernel with $C = 0.1$.\n"
      ]
    },
    {
      "cell_type": "code",
      "metadata": {
        "colab": {
          "base_uri": "https://localhost:8080/"
        },
        "id": "383M49sK5wpo",
        "outputId": "19f92dbc-53fa-423a-ce5b-dc36c3e53fcb"
      },
      "source": [
        "from sklearn.model_selection import train_test_split\n",
        "from sklearn.metrics import accuracy_score\n",
        "from sklearn import svm\n",
        "\n",
        "# loading data\n",
        "from sklearn.datasets import load_digits\n",
        "\n",
        "data = load_digits()\n",
        "X, y = data.data, data.target\n",
        "X_train, X_test, y_train, y_test = train_test_split(\n",
        "    X, y, test_size=0.3, random_state=17              #test_size controls the proportion of test data in the whole data\n",
        ")\n",
        "n_samples = len(data.images)\n",
        "print(n_samples)"
      ],
      "execution_count": null,
      "outputs": [
        {
          "output_type": "stream",
          "text": [
            "1797\n"
          ],
          "name": "stdout"
        }
      ]
    },
    {
      "cell_type": "code",
      "metadata": {
        "id": "BLfr6rYb71lV"
      },
      "source": [
        "C_list = np.array([0.001, 0.1, 0.5, 1, 10, 100])\n",
        "kernel_list = ['linear', 'poly', 'rbf', 'sigmoid']\n",
        "\n",
        "accuracy_score_dict = dict()\n",
        "for cc in C_list:\n",
        "    for kern in kernel_list:\n",
        "        clf_svm = svm.SVC(C = cc, kernel = kern)\n",
        "        clf_svm.fit(X_train, y_train)\n",
        "        svm_pred = clf_svm.predict(X_test)\n",
        "        accuracy_score_dict[kern + '_' + str(cc)] = accuracy_score(y_test,svm_pred)"
      ],
      "execution_count": null,
      "outputs": []
    },
    {
      "cell_type": "code",
      "metadata": {
        "colab": {
          "base_uri": "https://localhost:8080/",
          "height": 168
        },
        "id": "pnk-KYXv-hXD",
        "outputId": "b51ca053-0d78-4a84-c54c-6780a01737d7"
      },
      "source": [
        "clf_svm = svm.SVC(C = 0.1, kernel = 'poly')\n",
        "clf_svm.fit(X_train, y_train)\n",
        "svm_pred = clf_svm.predict(X_test)\n",
        "\n",
        "_, axes = plt.subplots(nrows=1, ncols=4, figsize=(10, 3))\n",
        "for ax, image, prediction in zip(axes, X_test, svm_pred):\n",
        "    ax.set_axis_off()\n",
        "    image = image.reshape(8, 8)\n",
        "    ax.imshow(image, cmap=plt.cm.gray_r, interpolation='nearest')\n",
        "    ax.set_title(f'Prediction: {prediction}')"
      ],
      "execution_count": null,
      "outputs": [
        {
          "output_type": "display_data",
          "data": {
            "image/png": "[encoded data removed]",
            "text/plain": [
              "<Figure size 720x216 with 4 Axes>"
            ]
          },
          "metadata": {
            "tags": [],
            "needs_background": "light"
          }
        }
      ]
    },
    {
      "cell_type": "markdown",
      "metadata": {
        "id": "oZtsfjHE5yu6"
      },
      "source": [
        "### Regression"
      ]
    }
  ]
}